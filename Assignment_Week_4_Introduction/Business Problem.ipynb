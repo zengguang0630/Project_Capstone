{
    "cells": [
        {
            "cell_type": "markdown",
            "metadata": {
                "collapsed": true
            },
            "source": "# Data Analysis Assignment for Week 4"
        },
        {
            "cell_type": "markdown",
            "metadata": {},
            "source": "## Part 1 on Introduction and Business Problem"
        },
        {
            "cell_type": "markdown",
            "metadata": {},
            "source": "* Introduction Section"
        },
        {
            "cell_type": "markdown",
            "metadata": {},
            "source": "For most people, visiting shopping malls is a great way to relax and enjoy themselves during weekends and holidays. They can go to supermarket for daily supplies, dine at restaurants, shop at the various fashion outlets, watch movies and perform many more activities. Shopping malls are like a one-stop termination for all types of shoppers. For retailers, the central location and the large crowd at the shopping malls provides a great distribution channel to market their products and services. Property developers are also taking advantage of this trend to build more shopping malls to cater to the demand. As a result, there are many shopping malls in the city of Kuala Lumpur and many more are being built. Opening shopping malls allows property developers to earn consistent rental income. Of course, as\nwith any business decision, opening a new shopping mall requires serious\nconsideration and is a lot more complicated than it seems. Particularly, the\nlocation of the shopping mall is one of the most important decisions that will determine whether the mall will be a success or a failure."
        },
        {
            "cell_type": "markdown",
            "metadata": {},
            "source": "* Business Problem Section"
        },
        {
            "cell_type": "markdown",
            "metadata": {},
            "source": "The objective of this capstone project is to analyze and select the best locations in the city of Kuala Lumpur, Malaysia to open a new shopping mall. Using data science methodology and machine learning techniques such as clustering, this project aims to provide solutions to answer the business question: In the city of Kuala Lumpur, Malaysia, if a property developer is planning to open a new shopping mall, where would you recommend that they open it? \nThis project is particularly useful for property developers and investors looking to open or invest in new shopping malls in the capital city of Malaysia i.e. Kuala Lumpur. This project is timely as the city is currently suffering from oversupply of shopping malls. Data from the National Property Information Centre (NAPIC) released last year showed that an additional 15 per cent will be added to existing mall space, and the agency predicted that total occupancy may dip below 86 per cent. The local newspaper The Malay Mail also reported in March last year that the true occupancy rates in malls may be as low as 40 per cent in some areas, quoting a Financial Times (FT) article cataloguing the country's continued obsession with building more shopping space despite chronic oversupply."
        },
        {
            "cell_type": "markdown",
            "metadata": {},
            "source": ""
        },
        {
            "cell_type": "code",
            "execution_count": null,
            "metadata": {},
            "outputs": [],
            "source": ""
        }
    ],
    "metadata": {
        "kernelspec": {
            "display_name": "Python 3.7",
            "language": "python",
            "name": "python3"
        },
        "language_info": {
            "codemirror_mode": {
                "name": "ipython",
                "version": 3
            },
            "file_extension": ".py",
            "mimetype": "text/x-python",
            "name": "python",
            "nbconvert_exporter": "python",
            "pygments_lexer": "ipython3",
            "version": "3.7.9"
        }
    },
    "nbformat": 4,
    "nbformat_minor": 1
}